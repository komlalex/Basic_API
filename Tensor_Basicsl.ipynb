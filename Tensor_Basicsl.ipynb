{
  "nbformat": 4,
  "nbformat_minor": 0,
  "metadata": {
    "colab": {
      "provenance": [],
      "authorship_tag": "ABX9TyMtXYzXwSTFxXiKVPFFoLRb",
      "include_colab_link": true
    },
    "kernelspec": {
      "name": "python3",
      "display_name": "Python 3"
    },
    "language_info": {
      "name": "python"
    }
  },
  "cells": [
    {
      "cell_type": "markdown",
      "metadata": {
        "id": "view-in-github",
        "colab_type": "text"
      },
      "source": [
        "<a href=\"https://colab.research.google.com/github/komlalex/Basic_API/blob/main/Tensor_Basicsl.ipynb\" target=\"_parent\"><img src=\"https://colab.research.google.com/assets/colab-badge.svg\" alt=\"Open In Colab\"/></a>"
      ]
    },
    {
      "cell_type": "code",
      "execution_count": 2,
      "metadata": {
        "id": "13KKhL4EBmo_"
      },
      "outputs": [],
      "source": [
        "import tensorflow as tf\n",
        "#physical_devices = tf.config.list_logical_devices(\"GPU\")\n",
        "#tf.config.experimental.set_memory_growth(physical_devices[0], True)"
      ]
    },
    {
      "cell_type": "markdown",
      "source": [
        "**Initialization of Tensors**"
      ],
      "metadata": {
        "id": "g3kKRItKFJ6f"
      }
    },
    {
      "cell_type": "code",
      "source": [
        "x = tf.constant(4, shape=(1,1), dtype=tf.float32)\n",
        "x = tf.constant([[1,2,3], [4,5,6]])\n",
        "x = tf.constant(True)\n",
        "x = tf.constant(\"Hello\")\n",
        "\n",
        "x = tf.ones((3,2))\n",
        "x = tf.zeros((2,3))\n",
        "x = tf.eye(3) # I for identity matrix (eye)\n",
        "\n",
        "x = tf.random.normal((3,3), mean=0, stddev=1)\n",
        "x = tf.random.uniform((1,3), minval=0, maxval=1)\n",
        "x = tf.range(start=1, limit=10, delta=2)\n",
        "\n",
        "\n",
        "# Converting between different types\n",
        "tf.cast(x, dtype=tf.float64)\n",
        "# tf.float(16, 32, 64), tf.int(8, 16, 32, 64), tf.bool( )\n",
        "\n",
        "\n",
        "print(x)"
      ],
      "metadata": {
        "colab": {
          "base_uri": "https://localhost:8080/"
        },
        "id": "zOJgZ-MsE2_v",
        "outputId": "d4509ac0-7525-4e9a-e17a-123f63507683"
      },
      "execution_count": 21,
      "outputs": [
        {
          "output_type": "stream",
          "name": "stdout",
          "text": [
            "tf.Tensor(b'Hello', shape=(), dtype=string)\n"
          ]
        }
      ]
    },
    {
      "cell_type": "markdown",
      "source": [
        "**Mathematical Operations**"
      ],
      "metadata": {
        "id": "y-D26Ck7LEPv"
      }
    },
    {
      "cell_type": "code",
      "source": [
        "\n",
        "x  = tf.constant([1,2,3])\n",
        "y = tf.constant([9,8,7])\n",
        "\n",
        "# Add\n",
        "z = tf.add(x, y)\n",
        "z = x + y\n",
        "\n",
        "# Subtract\n",
        "z = tf.subtract(x, y)\n",
        "z = x - y\n",
        "\n",
        "# Divide\n",
        "z = tf.divide(x, y)\n",
        "z = x / y\n",
        "\n",
        "# Multiply\n",
        "z = tf.multiply(x, y)\n",
        "z = x * y\n",
        "\n",
        "# Dot Product\n",
        "z = tf.tensordot(x, y, axes=1)\n",
        "z = tf.reduce_sum(x*y, axis=0)\n",
        "\n",
        "# Exponentiation\n",
        "z = x ** 5\n",
        "\n",
        "\n",
        "x = tf.random.normal((2,3))\n",
        "y= tf.random.normal((3,4))\n",
        "z = tf.matmul(x, y)\n",
        "print(z)\n",
        "z = x @ y\n",
        "print(z)"
      ],
      "metadata": {
        "colab": {
          "base_uri": "https://localhost:8080/"
        },
        "id": "LzKtjP9DFqtD",
        "outputId": "ed872ccf-61f4-45ae-f1e2-6e298d542f7b"
      },
      "execution_count": 35,
      "outputs": [
        {
          "output_type": "stream",
          "name": "stdout",
          "text": [
            "tf.Tensor(\n",
            "[[-0.29586878  0.02551367 -0.89939845  1.0395887 ]\n",
            " [ 0.3593284   1.6788232  -0.4187169   0.18697488]], shape=(2, 4), dtype=float32)\n",
            "tf.Tensor(\n",
            "[[-0.29586878  0.02551367 -0.89939845  1.0395887 ]\n",
            " [ 0.3593284   1.6788232  -0.4187169   0.18697488]], shape=(2, 4), dtype=float32)\n"
          ]
        }
      ]
    },
    {
      "cell_type": "markdown",
      "source": [
        "**Indexing**"
      ],
      "metadata": {
        "id": "D9bQA96AQoj3"
      }
    },
    {
      "cell_type": "code",
      "source": [
        "x = tf.constant([0,1,1,2,3,1,2,3])\n",
        "#print(x[:])\n",
        "#print(x[1:])\n",
        "#print(x[1:3])\n",
        "#print(x[::2])\n",
        "#print(x[::-1])\n",
        "indices = tf.constant([0,3])\n",
        "x_ind = tf.gather(x, indices)\n",
        "\n",
        "x = tf.constant([[1,2],\n",
        "                 [3,4],\n",
        "                 [5,6]])\n",
        "print(x[1, :])\n",
        "print(x[0:2])\n"
      ],
      "metadata": {
        "colab": {
          "base_uri": "https://localhost:8080/"
        },
        "id": "-Q2HaLV0G3wB",
        "outputId": "65aac27c-d38b-4cc5-a037-6bfd94ed8a82"
      },
      "execution_count": 28,
      "outputs": [
        {
          "output_type": "stream",
          "name": "stdout",
          "text": [
            "tf.Tensor([3 4], shape=(2,), dtype=int32)\n"
          ]
        }
      ]
    },
    {
      "cell_type": "markdown",
      "source": [],
      "metadata": {
        "id": "J1_dg48BQmT-"
      }
    },
    {
      "cell_type": "markdown",
      "source": [
        "**Reshaping**"
      ],
      "metadata": {
        "id": "NL7SRsMZmB1-"
      }
    },
    {
      "cell_type": "code",
      "source": [
        " x = tf.range(9)\n",
        " x = tf.reshape( x, shape=(3,3))\n",
        " x = tf.transpose(x, perm=[1,0])\n",
        " print(x)"
      ],
      "metadata": {
        "colab": {
          "base_uri": "https://localhost:8080/"
        },
        "id": "0X6PnIwVmJlK",
        "outputId": "c78bc59f-ee16-4fdb-b3e5-408c897c4a40"
      },
      "execution_count": 33,
      "outputs": [
        {
          "output_type": "stream",
          "name": "stdout",
          "text": [
            "tf.Tensor(\n",
            "[[0 3 6]\n",
            " [1 4 7]\n",
            " [2 5 8]], shape=(3, 3), dtype=int32)\n"
          ]
        }
      ]
    },
    {
      "cell_type": "code",
      "source": [
        ""
      ],
      "metadata": {
        "id": "cM-09NF1mRyB"
      },
      "execution_count": null,
      "outputs": []
    }
  ]
}